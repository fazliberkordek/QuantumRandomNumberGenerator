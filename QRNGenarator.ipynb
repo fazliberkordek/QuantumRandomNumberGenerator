{
 "cells": [
  {
   "cell_type": "markdown",
   "metadata": {},
   "source": [
    "We weill see how the quantum computer can be used in qryptography wil demostrating with the most fundemantel entity called  Random Number Generators. Aka RNGs.\n",
    "\n",
    "- Topics: \n",
    "    - Qubits\n",
    "    - bases of quantum states \n",
    "    - superposition of quantum states\n",
    "    - quantum state art and measurement"
   ]
  },
  {
   "cell_type": "markdown",
   "metadata": {},
   "source": [
    "Classical method for generating random numbers is based on the physical process of a coin toss or a dice roll.\n",
    "\n",
    "Quantum method for generating random numbers is based on the quantum mechanical process of a qubit.\n",
    "\n",
    "Computers can generate a randomm number based on mathemtical oirented algorithms can be predict or processed through classical information proccesing.\n",
    "\n",
    "you may think its is simple but consider rolling a dice orpicking card without knowing whats under it maybe you are measuring brownian motion and repor findings right? -- Well it is also random number generator example in the basic form.\n",
    "\n",
    "When you want to generate this random number on computer with using programs you will find yourself a dterministic pattern in the output.\n",
    "\n",
    "If I run the same program (with the same parameters) twice I should expect the same result each time. So how do we bend the rules of these deterministic machines to perform our task of generating random numbers? The answer comes in the form of a type of algorithm called a pseudorandom number generator (PRNGs).\n",
    "\n",
    "A PRNG is a deterministic algorithm that spits out numbers seemingly at \"random\". In fact, there are incredibly good PRNGs called Cryptographically Secure PRNGs that are used today in cryptography. However, there are two things which make a PRNG only pseudorandom, not truly random. First, a PRNG requires a seed from which the random string is generated. Using the same seed twice will result in the same string of random numbers (as the PRNG is a deterministic algorithm). Second, it is very hard to prove that, when the PRNG is run for a very long time, the numbers remain random. Therefore, when using a PRNG (for cryptographic purposes) the seeds should be periodically refreshed.\n",
    "\n",
    "Now what is crucial here is the make  sure your PNRG in simple  make sure an adversary (someone trying to break your cryptographic system) cannot learn the seed that you choose as they would then be able to generate the same string of random numbers and break your system.\n",
    "\n",
    "There are many different methods for generating seeds, your laptop might measure the temperature of it's CPU to a fine precision and use that as a seed. Alternatively, the company Cloudflare takes photos of a wall of lava lamps and uses the binary representation as seeds in their cybersecurity services.\n"
   ]
  },
  {
   "cell_type": "markdown",
   "metadata": {},
   "source": [
    "## Quantum Random Number Generator\n",
    "\n",
    "As far as we know, quantum processes can exhibit truly random behavior. So, if we had a quantum computer, is it possible to generate truly random numbers from a deterministic algorithm? The answer to this question is yes! Let's take a look at how.\n",
    "\n",
    "basically we will be using 2 major pillar of quantum mechanics to achieve this, First will be  the Superpostions and  and No cloning theory (Also well know that the main post quantum cryptograhy will be built on heisenberg uncertainty principle and No cloning theorem)\n",
    "\n",
    "If you're reading this you are likely familiar with the concept of a qubit, a unit of information used in quantum computers that can be in a superposition of both the 0 and 1 state simultaneously. More formally, a qubit is a 2-dimensional complex vector that can be represented as\n",
    "\n",
    "|ψ⟩ = α|0⟩ + β|1⟩\n",
    "\n",
    "where α and β are complex numbers that satisfy the normalization condition |α|^2 + |β|^2 = 1. The coefficients α and β represent the probability amplitudes for the qubit to be in the 0 or 1 state, respectively. (Please check the Dirac notation for more details to understand the notation)\n",
    "\n",
    "## Vector Representation of a Qubit\n",
    "\n",
    "A qubit is a 2-dimensional complex vector that can be represented as a vector in a 2-dimensional complex vector space.\n",
    "\n",
    "{(1,0), (0,1)}\n",
    "\n",
    "|0⟩ = [1,0]\n",
    "\n",
    "|1⟩ = [0,1]\n",
    "\n",
    "In fact, there are infinitely many bases for a vector space. In all of these basis, any point can be described by the linear combination of the basis vectors with some real coefficients.\n",
    "\n",
    "## Hadamard Gate\n",
    "\n",
    "The Hadamard gate is a 2x2 matrix that can be used to create a superposition of the 0 and 1 states.\n",
    "\n",
    "H = 1/√2 [1 1, 1 -1]\n",
    "\n",
    "Recalling the vector representation of a qubit, we can see that the Hadamard gate transforms the basis vectors of the computational basis into a superposition of the 0 and 1 states.\n",
    "\n",
    "H|0⟩ = 1/√2 [1 1, 1 -1] [1,0] = 1/√2 [1,1] = |+⟩\n",
    "\n",
    "H|1⟩ = 1/√2 [1 1, 1 -1] [0,1] = 1/√2 [1,-1] = |-⟩\n",
    "\n",
    "## No Cloning Theorem\n",
    "\n",
    "The No Cloning Theorem states that it is impossible to create an identical copy of an arbitrary unknown quantum state. This theorem is a consequence of the linearity of quantum mechanics and the fact that quantum states are described by complex vectors.\n",
    "\n",
    "## Measuring qubits\n",
    "For the final component of our algorithm, we are going to need to be able to measure qubits and be able to calculate the probability of obtaining a certain measurement.\n",
    "\n",
    "Say I have a qubit  that I want to measure. The first thing I need to do is specify which basis I want my measurement in. We are familiar with the standard basis, and that seems like a good choice, so let's use that for now.\n",
    "\n",
    "To calculate the probability of a quantum state  collapsing to a given state  when measured, we use the following equation  where  is the inner product of  and ."
   ]
  },
  {
   "cell_type": "code",
   "execution_count": null,
   "metadata": {},
   "outputs": [
    {
     "data": {
      "image/png": "[encoded data removed]",
      "text/plain": [
       "<Figure size 269.064x200.667 with 1 Axes>"
      ]
     },
     "execution_count": 6,
     "metadata": {},
     "output_type": "execute_result"
    }
   ],
   "source": [
    "### LEts first create a bases to perform superposition and no clonning theorem \n",
    "from qiskit import QuantumCircuit\n",
    "\n",
    "qc = QuantumCircuit(1,1) #Lets have 1 qubit for simplified \n",
    "qc.h(0) #Apply hadamard gate to the qubit to perform a superpostion \n",
    "qc.measure(0,0) #Measure the qubit and store the result in the classical bit 0\n",
    "qc.draw(output='mpl')\n"
   ]
  },
  {
   "cell_type": "code",
   "execution_count": 11,
   "metadata": {},
   "outputs": [
    {
     "name": "stdout",
     "output_type": "stream",
     "text": [
      "{'0': 515, '1': 509}\n"
     ]
    }
   ],
   "source": [
    "# Now lets simulate this behaviour to see the circuit\n",
    "from qiskit import transpile\n",
    "from qiskit_aer import AerSimulator\n",
    "\n",
    "backend = AerSimulator() #You can use  real quantum hardware but we are going to use simulation for this one\n",
    "qc_complied = transpile(qc, backend)\n",
    "job_sim = backend.run(qc_complied)\n",
    "result_sim = job_sim.result()\n",
    "counts = result_sim.get_counts(qc_complied)\n",
    "print(counts)\n"
   ]
  },
  {
   "cell_type": "markdown",
   "metadata": {},
   "source": []
  }
 ],
 "metadata": {
  "kernelspec": {
   "display_name": "Python 3",
   "language": "python",
   "name": "python3"
  },
  "language_info": {
   "codemirror_mode": {
    "name": "ipython",
    "version": 3
   },
   "file_extension": ".py",
   "mimetype": "text/x-python",
   "name": "python",
   "nbconvert_exporter": "python",
   "pygments_lexer": "ipython3",
   "version": "3.9.6"
  }
 },
 "nbformat": 4,
 "nbformat_minor": 2
}
